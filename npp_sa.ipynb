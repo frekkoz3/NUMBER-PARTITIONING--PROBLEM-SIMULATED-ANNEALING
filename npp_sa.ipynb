{
 "cells": [
  {
   "cell_type": "markdown",
   "id": "e4a96259",
   "metadata": {},
   "source": [
    "# NPP PROBLEM\n",
    "\n",
    "The Number Partitioning Problem is the problem where, given a set of Integer, you are trying to find the two subset such that the sum of elements in the first subset is equal to the sum of elements in the second subset. Formally it should be:\n",
    "$$\n",
    "S = \\{s_i | s_i \\in \\mathbb{N}\\}\n",
    "$$\n",
    "we want to find \n",
    "$$\n",
    "A \\subset S, B = S-A\n",
    "$$\n",
    "such that\n",
    "$$\n",
    "\\sum_{a \\in A} a = \\sum_{b \\in B} b\n",
    "$$\n",
    "if there are no such subset, the solution should be A, B such that the difference\n",
    "$$\n",
    "(\\sum_{a \\in A} a - \\sum_{b \\in B} b)^2\n",
    "$$\n",
    "is minimized. \n",
    "\n",
    "Since finding random feasible solution is pretty easy and since performing a sample from the neighborhood is pretty easy too, this lead us to approach the problem with a Simulated Annealing approach."
   ]
  },
  {
   "cell_type": "markdown",
   "id": "ab10537f",
   "metadata": {},
   "source": [
    "### Guaranteed solution\n",
    "\n",
    "For the first part of this notebook we assume there always exists a solution for the exact problem (we do not minimize the difference, we can impose it to 0)."
   ]
  },
  {
   "cell_type": "code",
   "execution_count": 1,
   "id": "0ffdb904",
   "metadata": {},
   "outputs": [],
   "source": [
    "# Function to generate a Set with guaranteed subsets with equal sum\n",
    "import random\n",
    "A_size = 10\n",
    "A = [random.randint(1, 100) for i in range(A_size)]\n",
    "B = []\n",
    "while (sum(B) < sum(A)):\n",
    "    B.append(random.randint(1, 100))\n",
    "diff = sum(B) - sum(A)\n",
    "A[0] += diff\n",
    "\n",
    "S = A + B\n",
    "random.shuffle(S)"
   ]
  },
  {
   "cell_type": "markdown",
   "id": "0984ea4a",
   "metadata": {},
   "source": [
    "Usually we could like to implement an heuristic to find the starting point of our simulaed annealing, btw for the first parte we do not use any heuristic in order to obtain it."
   ]
  },
  {
   "cell_type": "code",
   "execution_count": 2,
   "id": "007e6e5b",
   "metadata": {},
   "outputs": [],
   "source": [
    "def random_subsets(S): \n",
    "    A = []\n",
    "    B = []\n",
    "    for s in S:\n",
    "        u = random.uniform(0, 1)\n",
    "        if u > 0.5:\n",
    "            A.append(s)\n",
    "        else:\n",
    "            B.append(s)\n",
    "    return A, B"
   ]
  },
  {
   "cell_type": "markdown",
   "id": "66a1b9c7",
   "metadata": {},
   "source": [
    "Also while doing sampling within the neighborhood of our solution we could use some heuristic to help the algorithm in finding possibly \"better\" solution, but for the first part we do not implement any heuristic in order to obtain it."
   ]
  },
  {
   "cell_type": "code",
   "execution_count": 14,
   "id": "bd5cdb62",
   "metadata": {},
   "outputs": [],
   "source": [
    "def sample_from_neighborhood(A, B, n_mut = 2): #  The number of mutation can be tweaked based on the value of the solution\n",
    "    n_mut_A = random.randrange(0, min(n_mut, len(A)))\n",
    "    A_index = [i for i in range (len(A))]\n",
    "    random.shuffle(A_index)\n",
    "    selected_indexes_A = A_index[:n_mut_A]\n",
    "    n_mut_B = random.randrange(0, min(n_mut, len(B)))\n",
    "    B_index = [i for i in range (len(B))]\n",
    "    random.shuffle(B_index)\n",
    "    selected_indexes_B = B_index[:n_mut_B]\n",
    "    selected_indexes_A.sort()\n",
    "    selected_indexes_B.sort()\n",
    "    for i in selected_indexes_A:\n",
    "        B.append(A.pop(i))\n",
    "    for i in selected_indexes_B:\n",
    "        A.append(B.pop(i))\n",
    "    return A, B"
   ]
  },
  {
   "cell_type": "markdown",
   "id": "913d59ab",
   "metadata": {},
   "source": [
    "The evaluation function is just the square of the difference of the sum of the subset."
   ]
  },
  {
   "cell_type": "code",
   "execution_count": 15,
   "id": "ebd66094",
   "metadata": {},
   "outputs": [],
   "source": [
    "def evaluate_solution(A, B):\n",
    "    return (sum(A) - sum(B))**2"
   ]
  },
  {
   "cell_type": "markdown",
   "id": "b5b1c334",
   "metadata": {},
   "source": [
    "The acceptance probability is computed as protocol in a SA.\n",
    "$$\n",
    "p = \\exp(-\\frac{\\Delta{E}}{T})\n",
    "$$"
   ]
  },
  {
   "cell_type": "code",
   "execution_count": 16,
   "id": "03132319",
   "metadata": {},
   "outputs": [],
   "source": [
    "import math\n",
    "def acceptance_probability(e_old, e_new, T):\n",
    "    \n",
    "    delta_e = e_new - e_old\n",
    "    if delta_e > 0:\n",
    "        return 1\n",
    "    if -delta_e/T > 700:\n",
    "        return 0\n",
    "    return math.exp(-(delta_e/T))"
   ]
  },
  {
   "cell_type": "markdown",
   "id": "f4ec611a",
   "metadata": {},
   "source": [
    "Here we define a geometric schedule of the temperature."
   ]
  },
  {
   "cell_type": "code",
   "execution_count": 17,
   "id": "4d816ea7",
   "metadata": {},
   "outputs": [],
   "source": [
    "def geometric_schedule(T, **kwargs):\n",
    "    k = kwargs[\"k\"]\n",
    "    return k*T"
   ]
  },
  {
   "cell_type": "markdown",
   "id": "ce8fd29a",
   "metadata": {},
   "source": [
    "We define a generic SA cycle."
   ]
  },
  {
   "cell_type": "code",
   "execution_count": 18,
   "id": "e1e1e472",
   "metadata": {},
   "outputs": [],
   "source": [
    "def simulated_annealing_cycle(initial_solution, T_0, schedule, **kwargs):\n",
    "    T = T_0\n",
    "    schedule_params = {key:item for key, item in kwargs.items()}\n",
    "    solution = initial_solution\n",
    "    while T > 1:\n",
    "        A_old, B_old = solution\n",
    "        E_old = evaluate_solution(A_old, B_old)\n",
    "\n",
    "        if E_old == 0:\n",
    "            return solution\n",
    "        \n",
    "        A_new, B_new = sample_from_neighborhood(A_old, B_old)\n",
    "        E_new = evaluate_solution(A_new, B_new)\n",
    "        \n",
    "        p = acceptance_probability(E_old, E_new, T)\n",
    "        if random.uniform(0, 1) <= p:\n",
    "            solution = [A_new, B_new]\n",
    "\n",
    "        T = schedule(T, **schedule_params)\n",
    "        \n",
    "    return solution"
   ]
  },
  {
   "cell_type": "markdown",
   "id": "25440c85",
   "metadata": {},
   "source": [
    "And we try now how it works."
   ]
  },
  {
   "cell_type": "code",
   "execution_count": 27,
   "id": "f6c601c1",
   "metadata": {},
   "outputs": [
    {
     "name": "stdout",
     "output_type": "stream",
     "text": [
      "520\n",
      "661\n",
      "982\n",
      "199\n"
     ]
    }
   ],
   "source": [
    "S = [93, 58, 141, 209, 179, 48, 225, 228]\n",
    "A = [93, 58, 141, 228]\n",
    "B = [209, 179, 48, 225]\n",
    "print(sum(A))\n",
    "print(sum(B))\n",
    "A, B = simulated_annealing_cycle([A, B], 10000, geometric_schedule, k = 0.999)\n",
    "print(sum(A))\n",
    "print(sum(B))"
   ]
  },
  {
   "cell_type": "code",
   "execution_count": null,
   "id": "3a2e773f",
   "metadata": {},
   "outputs": [],
   "source": [
    "def npp(S): # NOT WORKING, IT WAS JUST AN IDEA\n",
    "    max_lim = 2**(len(S))\n",
    "    S = sorted(S)\n",
    "    sum_S = sum(S)\n",
    "    A = [S.pop()]\n",
    "    sum_A = sum(A)\n",
    "    i = 0\n",
    "    while i < max_lim:\n",
    "        i += 1\n",
    "        sum_A = sum(A)\n",
    "        sum_S = sum(S)\n",
    "        E_k = sum_A - sum_S\n",
    "        diff = abs(E_k)\n",
    "        candidate = []\n",
    "        print(f\"{i} : {E_k}\")\n",
    "        print(f\"A : {A}\\nS : {S}\")\n",
    "        if E_k > 0:\n",
    "            for j, a in enumerate(A):\n",
    "                if a <= diff:\n",
    "                    candidate.append(j)\n",
    "            if candidate == []:\n",
    "                break\n",
    "            print(f\"from A to S : {[A[A.index(z)] for z in candidate]}\")\n",
    "            S.append(A.pop(A.index(max(candidate))))\n",
    "        elif E_k < 0:\n",
    "            for j, s in enumerate(S):\n",
    "                if s <= diff:\n",
    "                    candidate.append(s)\n",
    "            if candidate == []:\n",
    "                break\n",
    "            print(f\"from S to A : {[S[S.index(z)] for z in candidate]}\")\n",
    "            A.append(S.pop(S.index(max(candidate))))\n",
    "        else:\n",
    "            break\n",
    "    return A, S\n"
   ]
  },
  {
   "cell_type": "code",
   "execution_count": 68,
   "id": "653e2d05",
   "metadata": {},
   "outputs": [
    {
     "name": "stdout",
     "output_type": "stream",
     "text": [
      "1 : -725\n",
      "A : [228]\n",
      "S : [48, 58, 93, 141, 179, 209, 225]\n",
      "from S to A : [48, 58, 93, 141, 179, 209, 225]\n",
      "2 : -275\n",
      "A : [228, 225]\n",
      "S : [48, 58, 93, 141, 179, 209]\n",
      "from S to A : [48, 58, 93, 141, 179, 209]\n",
      "3 : 143\n",
      "A : [228, 225, 209]\n",
      "S : [48, 58, 93, 141, 179]\n",
      "662\n",
      "519\n"
     ]
    }
   ],
   "source": [
    "S = [93, 58, 141, 209, 179, 48, 225, 228] \n",
    "A, S = npp(S)\n",
    "print(sum(A))\n",
    "print(sum(S))"
   ]
  },
  {
   "cell_type": "markdown",
   "id": "7af68f84",
   "metadata": {},
   "source": [
    "This solution works enough but both k and T are pretty high and the size of S is pretty low. Not really good."
   ]
  },
  {
   "cell_type": "markdown",
   "id": "1df53cd6",
   "metadata": {},
   "source": [
    "### Solution not Guaranteed and Heuristics\n",
    "\n",
    "This part is dedicated to the solution at the problem when we want to minimize the difference (and not imposing it to 0). In this part we will also try some heuristics."
   ]
  }
 ],
 "metadata": {
  "kernelspec": {
   "display_name": "Python 3",
   "language": "python",
   "name": "python3"
  },
  "language_info": {
   "codemirror_mode": {
    "name": "ipython",
    "version": 3
   },
   "file_extension": ".py",
   "mimetype": "text/x-python",
   "name": "python",
   "nbconvert_exporter": "python",
   "pygments_lexer": "ipython3",
   "version": "3.12.3"
  }
 },
 "nbformat": 4,
 "nbformat_minor": 5
}
